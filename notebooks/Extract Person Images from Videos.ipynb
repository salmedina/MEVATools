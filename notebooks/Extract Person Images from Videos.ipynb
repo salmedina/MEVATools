{
 "cells": [
  {
   "cell_type": "code",
   "execution_count": 25,
   "metadata": {},
   "outputs": [],
   "source": [
    "import json\n",
    "import numpy as np\n",
    "import os.path as osp\n",
    "from glob import glob\n",
    "from PIL import Image\n",
    "import matplotlib.pyplot as plt\n",
    "import seaborn as sns\n",
    "from collections import defaultdict\n",
    "\n",
    "sns.set_palette('Set2')"
   ]
  },
  {
   "cell_type": "code",
   "execution_count": 36,
   "metadata": {},
   "outputs": [],
   "source": [
    "def get_person_event_list():\n",
    "    anno_file_list = glob('../annotations/MEVA_annotation_V2/f330/train/*/*.json')\n",
    "    event_type_set = set()\n",
    "    for anno_file in anno_file_list:\n",
    "        anno_data = json.load(open(anno_file, 'r'))\n",
    "        for key in anno_data:\n",
    "            event_type_set.add(anno_data[key]['event_type'])\n",
    "    return [event for event in list(event_type_set) if 'Person' == event[:len('Person')]]"
   ]
  },
  {
   "cell_type": "code",
   "execution_count": 38,
   "metadata": {},
   "outputs": [
    {
     "name": "stdout",
     "output_type": "stream",
     "text": [
      "23\n",
      "Person_Enters_Through_Structure\n",
      "Person_Unloads_Vehicle\n",
      "Person_Closes_Vehicle_Door\n",
      "Person_Picks_Up_Object\n",
      "Person_Sets_Down_Object\n",
      "Person_Opens_Vehicle_Door\n",
      "Person_Closes_Facility_Door\n",
      "Person_Closes_Trunk\n",
      "Person_Opens_Facility_Door\n",
      "Person-Laptop_Interaction\n",
      "Person-Person_Embrace\n",
      "Person_Reading_Document\n",
      "Person_Heavy_Carry\n",
      "Person_Exits_Vehicle\n",
      "Person_Standing_Up\n",
      "Person_Loads_Vehicle\n",
      "Person_Enters_Vehicle\n",
      "Person_Purchasing\n",
      "Person_Talking_on_Phone\n",
      "Person_Opens_Trunk\n",
      "Person_Exits_Through_Structure\n",
      "Person_Sitting_Down\n",
      "Person_Texting_on_Phone\n"
     ]
    }
   ],
   "source": [
    "person_event_list = get_person_event_list()\n",
    "print(len(person_event_list))\n",
    "print('\\n'.join(person_event_list))"
   ]
  },
  {
   "cell_type": "code",
   "execution_count": 45,
   "metadata": {},
   "outputs": [],
   "source": [
    "anno_file_list = glob('../annotations/MEVA_annotation_V2/f330/train/*/*.json')\n",
    "person_event_annotations = []\n",
    "for anno_file in anno_file_list:\n",
    "    anno_data = json.load(open(anno_file, 'r'))\n",
    "    for key in anno_data:\n",
    "        annotation = anno_data[key]\n",
    "        if annotation['event_type'] in person_event_list:\n",
    "            anno_summary = {}\n",
    "            anno_summary['video_name'] = osp.splitext(osp.basename(anno_file))[0]\n",
    "            anno_summary['event_type'] = annotation['event_type']\n",
    "            anno_summary['start_frame'] = annotation['start_frame']\n",
    "            anno_summary['end_frame'] = annotation['end_frame']\n",
    "            anno_summary['trajectory'] = annotation['trajectory']\n",
    "            anno_summary['file'] = anno_file\n",
    "            person_event_annotations.append(anno_file)"
   ]
  },
  {
   "cell_type": "code",
   "execution_count": 51,
   "metadata": {},
   "outputs": [],
   "source": [
    "sel_index = np.random.choice(len(person_event_annotations), 100, replace=False)"
   ]
  },
  {
   "cell_type": "code",
   "execution_count": 52,
   "metadata": {},
   "outputs": [
    {
     "data": {
      "text/plain": [
       "array([6462, 3969, 1592, 1097, 1128, 3367, 7028, 1020, 6130, 1278, 1029,\n",
       "       3448,  781,  231,  990, 3090, 4938, 6582, 6617, 5978, 6032, 5294,\n",
       "       6672, 1735, 4040, 7153, 5565, 1476,  275, 2804, 6041, 6670, 5112,\n",
       "       5287,  853, 3018, 1098, 6322, 4120, 6143, 2320, 6182, 6592,  746,\n",
       "       4580, 6370, 1611, 5230, 4756, 4439, 4043, 6977, 6348, 4452,  195,\n",
       "       6510, 1972, 7060,   59, 4268, 2718, 6268, 6559,  253, 4940, 1734,\n",
       "       3879, 4367, 5608, 1630, 5269, 2962, 2207, 6901, 1125, 6044, 4569,\n",
       "       4777, 4211, 5507, 1059, 6538, 5733, 3493, 1048, 1239, 4530, 3970,\n",
       "       3489, 4247, 1690, 6605, 2216, 1970, 3741, 1902, 3980, 3341, 6218,\n",
       "        149])"
      ]
     },
     "execution_count": 52,
     "metadata": {},
     "output_type": "execute_result"
    }
   ],
   "source": []
  }
 ],
 "metadata": {
  "kernelspec": {
   "display_name": "Python 3",
   "language": "python",
   "name": "python3"
  },
  "language_info": {
   "codemirror_mode": {
    "name": "ipython",
    "version": 3
   },
   "file_extension": ".py",
   "mimetype": "text/x-python",
   "name": "python",
   "nbconvert_exporter": "python",
   "pygments_lexer": "ipython3",
   "version": "3.7.4"
  }
 },
 "nbformat": 4,
 "nbformat_minor": 2
}
